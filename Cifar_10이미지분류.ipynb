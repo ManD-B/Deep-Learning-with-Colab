{
  "nbformat": 4,
  "nbformat_minor": 0,
  "metadata": {
    "colab": {
      "name": "Cifar-10이미지분류.ipynb",
      "provenance": [],
      "authorship_tag": "ABX9TyMSuChfgwIhB7hcauQFDpwL",
      "include_colab_link": true
    },
    "kernelspec": {
      "name": "python3",
      "display_name": "Python 3"
    },
    "accelerator": "GPU"
  },
  "cells": [
    {
      "cell_type": "markdown",
      "metadata": {
        "id": "view-in-github",
        "colab_type": "text"
      },
      "source": [
        "<a href=\"https://colab.research.google.com/github/ManD-B/Deep-Learning-with-Colab/blob/master/Cifar_10%EC%9D%B4%EB%AF%B8%EC%A7%80%EB%B6%84%EB%A5%98.ipynb\" target=\"_parent\"><img src=\"https://colab.research.google.com/assets/colab-badge.svg\" alt=\"Open In Colab\"/></a>"
      ]
    },
    {
      "cell_type": "markdown",
      "metadata": {
        "id": "uaSUPnlva_cu",
        "colab_type": "text"
      },
      "source": [
        "# Cifar-10 이미지 분류\n",
        "### 전체 데이터 사용\n",
        "### Data Augmentation 적용\n",
        "### 출처: [Achieving 90% accuracy in Object Recognition ](https://appliedmachinelearning.blog/2018/03/24/achieving-90-accuracy-in-object-recognition-task-on-cifar-10-dataset-with-keras-convolutional-neural-networks/)"
      ]
    },
    {
      "cell_type": "code",
      "metadata": {
        "id": "hl2LSPp6bBf9",
        "colab_type": "code",
        "colab": {}
      },
      "source": [
        "import tensorflow as tf\n",
        "from tensorflow.keras.datasets import cifar10\n",
        "from tensorflow.keras.models import Sequential\n",
        "from tensorflow.keras.layers import Conv2D, MaxPooling2D, Flatten, Dense, Dropout\n",
        "from tensorflow.keras.layers import Activation, BatchNormalization\n",
        "from tensorflow.keras.regularizers import l2\n",
        "from tensorflow.keras.callbacks import ModelCheckpoint, EarlyStopping\n",
        "import os\n",
        "import numpy as np"
      ],
      "execution_count": null,
      "outputs": []
    },
    {
      "cell_type": "code",
      "metadata": {
        "id": "rUCyPBnGbCn2",
        "colab_type": "code",
        "colab": {
          "base_uri": "https://localhost:8080/",
          "height": 125
        },
        "outputId": "f6736753-c119-45e7-dc3a-846957f9b313"
      },
      "source": [
        "(X_train, y_train0), (X_test, y_test0) = cifar10.load_data()\n",
        "print(X_train.shape, X_train.dtype)\n",
        "print(y_train0.shape, y_train0.dtype)\n",
        "print(X_test.shape, X_test.dtype)\n",
        "print(y_test0.shape, y_test0.dtype)"
      ],
      "execution_count": null,
      "outputs": [
        {
          "output_type": "stream",
          "text": [
            "Downloading data from https://www.cs.toronto.edu/~kriz/cifar-10-python.tar.gz\n",
            "170500096/170498071 [==============================] - 11s 0us/step\n",
            "(50000, 32, 32, 3) uint8\n",
            "(50000, 1) uint8\n",
            "(10000, 32, 32, 3) uint8\n",
            "(10000, 1) uint8\n"
          ],
          "name": "stdout"
        }
      ]
    },
    {
      "cell_type": "code",
      "metadata": {
        "id": "d166uSSRbCqV",
        "colab_type": "code",
        "colab": {
          "base_uri": "https://localhost:8080/",
          "height": 35
        },
        "outputId": "496ca9bc-7446-409f-9254-ef628f5eeb00"
      },
      "source": [
        "X_train = X_train.astype('float32')/255.0\n",
        "X_test = X_test.astype('float32')/255.0\n",
        "\n",
        "print(X_train.shape, X_train.dtype)"
      ],
      "execution_count": null,
      "outputs": [
        {
          "output_type": "stream",
          "text": [
            "(50000, 32, 32, 3) float32\n"
          ],
          "name": "stdout"
        }
      ]
    },
    {
      "cell_type": "code",
      "metadata": {
        "id": "2HjtDfDfbCst",
        "colab_type": "code",
        "colab": {
          "base_uri": "https://localhost:8080/",
          "height": 89
        },
        "outputId": "6fd730de-21be-4439-a62d-93a749f436a9"
      },
      "source": [
        "Y_train = tf.keras.utils.to_categorical(y_train0, 10)\n",
        "Y_test = tf.keras.utils.to_categorical(y_test0, 10)\n",
        "Y_train[:4]"
      ],
      "execution_count": null,
      "outputs": [
        {
          "output_type": "execute_result",
          "data": {
            "text/plain": [
              "array([[0., 0., 0., 0., 0., 0., 1., 0., 0., 0.],\n",
              "       [0., 0., 0., 0., 0., 0., 0., 0., 0., 1.],\n",
              "       [0., 0., 0., 0., 0., 0., 0., 0., 0., 1.],\n",
              "       [0., 0., 0., 0., 1., 0., 0., 0., 0., 0.]], dtype=float32)"
            ]
          },
          "metadata": {
            "tags": []
          },
          "execution_count": 4
        }
      ]
    },
    {
      "cell_type": "code",
      "metadata": {
        "id": "xF7aXaT9bCuu",
        "colab_type": "code",
        "colab": {}
      },
      "source": [
        "np.random.seed(0)\n",
        "weight_decay = 1e-4"
      ],
      "execution_count": null,
      "outputs": []
    },
    {
      "cell_type": "code",
      "metadata": {
        "id": "CilnU79lbCw1",
        "colab_type": "code",
        "colab": {
          "base_uri": "https://localhost:8080/",
          "height": 1000
        },
        "outputId": "909c6c4d-5faf-43c7-d88a-b228fa6f5eee"
      },
      "source": [
        "model = Sequential()\n",
        "\n",
        "model.add(Conv2D(32, (3,3), padding='same', kernel_regularizer=l2(weight_decay), \n",
        "                 input_shape=X_train.shape[1:]))\n",
        "model.add(Activation('elu'))\n",
        "model.add(BatchNormalization())\n",
        "model.add(Conv2D(32, (3,3), padding='same', kernel_regularizer=l2(weight_decay)))\n",
        "model.add(Activation('elu'))\n",
        "model.add(BatchNormalization())\n",
        "model.add(MaxPooling2D(pool_size=(2,2)))\n",
        "model.add(Dropout(0.2))\n",
        " \n",
        "model.add(Conv2D(64, (3,3), padding='same', kernel_regularizer=l2(weight_decay)))\n",
        "model.add(Activation('elu'))\n",
        "model.add(BatchNormalization())\n",
        "model.add(Conv2D(64, (3,3), padding='same', kernel_regularizer=l2(weight_decay)))\n",
        "model.add(Activation('elu'))\n",
        "model.add(BatchNormalization())\n",
        "model.add(MaxPooling2D(pool_size=(2,2)))\n",
        "model.add(Dropout(0.3))\n",
        " \n",
        "model.add(Conv2D(128, (3,3), padding='same', kernel_regularizer=l2(weight_decay)))\n",
        "model.add(Activation('elu'))\n",
        "model.add(BatchNormalization())\n",
        "model.add(Conv2D(128, (3,3), padding='same', kernel_regularizer=l2(weight_decay)))\n",
        "model.add(Activation('elu'))\n",
        "model.add(BatchNormalization())\n",
        "model.add(MaxPooling2D(pool_size=(2,2)))\n",
        "model.add(Dropout(0.4))\n",
        " \n",
        "model.add(Flatten())\n",
        "model.add(Dense(10, activation='softmax'))\n",
        "\n",
        "model.summary()"
      ],
      "execution_count": null,
      "outputs": [
        {
          "output_type": "stream",
          "text": [
            "Model: \"sequential\"\n",
            "_________________________________________________________________\n",
            "Layer (type)                 Output Shape              Param #   \n",
            "=================================================================\n",
            "conv2d (Conv2D)              (None, 32, 32, 32)        896       \n",
            "_________________________________________________________________\n",
            "activation (Activation)      (None, 32, 32, 32)        0         \n",
            "_________________________________________________________________\n",
            "batch_normalization (BatchNo (None, 32, 32, 32)        128       \n",
            "_________________________________________________________________\n",
            "conv2d_1 (Conv2D)            (None, 32, 32, 32)        9248      \n",
            "_________________________________________________________________\n",
            "activation_1 (Activation)    (None, 32, 32, 32)        0         \n",
            "_________________________________________________________________\n",
            "batch_normalization_1 (Batch (None, 32, 32, 32)        128       \n",
            "_________________________________________________________________\n",
            "max_pooling2d (MaxPooling2D) (None, 16, 16, 32)        0         \n",
            "_________________________________________________________________\n",
            "dropout (Dropout)            (None, 16, 16, 32)        0         \n",
            "_________________________________________________________________\n",
            "conv2d_2 (Conv2D)            (None, 16, 16, 64)        18496     \n",
            "_________________________________________________________________\n",
            "activation_2 (Activation)    (None, 16, 16, 64)        0         \n",
            "_________________________________________________________________\n",
            "batch_normalization_2 (Batch (None, 16, 16, 64)        256       \n",
            "_________________________________________________________________\n",
            "conv2d_3 (Conv2D)            (None, 16, 16, 64)        36928     \n",
            "_________________________________________________________________\n",
            "activation_3 (Activation)    (None, 16, 16, 64)        0         \n",
            "_________________________________________________________________\n",
            "batch_normalization_3 (Batch (None, 16, 16, 64)        256       \n",
            "_________________________________________________________________\n",
            "max_pooling2d_1 (MaxPooling2 (None, 8, 8, 64)          0         \n",
            "_________________________________________________________________\n",
            "dropout_1 (Dropout)          (None, 8, 8, 64)          0         \n",
            "_________________________________________________________________\n",
            "conv2d_4 (Conv2D)            (None, 8, 8, 128)         73856     \n",
            "_________________________________________________________________\n",
            "activation_4 (Activation)    (None, 8, 8, 128)         0         \n",
            "_________________________________________________________________\n",
            "batch_normalization_4 (Batch (None, 8, 8, 128)         512       \n",
            "_________________________________________________________________\n",
            "conv2d_5 (Conv2D)            (None, 8, 8, 128)         147584    \n",
            "_________________________________________________________________\n",
            "activation_5 (Activation)    (None, 8, 8, 128)         0         \n",
            "_________________________________________________________________\n",
            "batch_normalization_5 (Batch (None, 8, 8, 128)         512       \n",
            "_________________________________________________________________\n",
            "max_pooling2d_2 (MaxPooling2 (None, 4, 4, 128)         0         \n",
            "_________________________________________________________________\n",
            "dropout_2 (Dropout)          (None, 4, 4, 128)         0         \n",
            "_________________________________________________________________\n",
            "flatten (Flatten)            (None, 2048)              0         \n",
            "_________________________________________________________________\n",
            "dense (Dense)                (None, 10)                20490     \n",
            "=================================================================\n",
            "Total params: 309,290\n",
            "Trainable params: 308,394\n",
            "Non-trainable params: 896\n",
            "_________________________________________________________________\n"
          ],
          "name": "stdout"
        }
      ]
    },
    {
      "cell_type": "code",
      "metadata": {
        "id": "bt_Qp4m1bCy9",
        "colab_type": "code",
        "colab": {}
      },
      "source": [
        "from tensorflow.keras.optimizers import RMSprop\n",
        "\n",
        "model.compile(loss='categorical_crossentropy', \n",
        "              optimizer=RMSprop(lr=0.001, decay=weight_decay), \n",
        "              metrics=['accuracy'])"
      ],
      "execution_count": null,
      "outputs": []
    },
    {
      "cell_type": "code",
      "metadata": {
        "id": "JxRqRghqbL82",
        "colab_type": "code",
        "colab": {}
      },
      "source": [
        "def lr_schedule(epoch):\n",
        "    lrate = 0.001\n",
        "    if epoch > 30:\n",
        "        lrate = 0.0005\n",
        "    if epoch > 40:\n",
        "        lrate = 0.0003\n",
        "    return lrate"
      ],
      "execution_count": null,
      "outputs": []
    },
    {
      "cell_type": "code",
      "metadata": {
        "id": "btF22sOMbL_F",
        "colab_type": "code",
        "colab": {}
      },
      "source": [
        "#data augmentation\n",
        "from tensorflow.keras.preprocessing.image import ImageDataGenerator\n",
        "\n",
        "datagen = ImageDataGenerator(\n",
        "    rotation_range=15,\n",
        "    width_shift_range=0.1,\n",
        "    height_shift_range=0.1,\n",
        "    horizontal_flip=True,\n",
        ")\n",
        "datagen.fit(X_train)"
      ],
      "execution_count": null,
      "outputs": []
    },
    {
      "cell_type": "code",
      "metadata": {
        "id": "9ARws9kmb4B2",
        "colab_type": "code",
        "colab": {}
      },
      "source": [
        "# 모델 최적화 설정\n",
        "MODEL_DIR = './model2/'\n",
        "if not os.path.exists(MODEL_DIR):\n",
        "    os.mkdir(MODEL_DIR)"
      ],
      "execution_count": null,
      "outputs": []
    },
    {
      "cell_type": "code",
      "metadata": {
        "id": "Rk1cIocGb1BA",
        "colab_type": "code",
        "colab": {}
      },
      "source": [
        "modelpath = MODEL_DIR + \"mnist-cnn-{epoch:02d}-{val_loss:.4f}.hdf5\"\n",
        "checkpointer = ModelCheckpoint(filepath=modelpath, monitor='val_loss', \n",
        "                               verbose=1, save_best_only=True)\n",
        "early_stopping_callback = EarlyStopping(monitor='val_loss', patience=10)"
      ],
      "execution_count": null,
      "outputs": []
    },
    {
      "cell_type": "code",
      "metadata": {
        "id": "7ct7mr0PbMBV",
        "colab_type": "code",
        "colab": {
          "base_uri": "https://localhost:8080/",
          "height": 649
        },
        "outputId": "285986d8-5891-4612-f749-39d7f4b8a527"
      },
      "source": [
        "from tensorflow.keras.callbacks import LearningRateScheduler\n",
        "\n",
        "history = model.fit_generator(datagen.flow(X_train, Y_train, batch_size=64),\n",
        "                    steps_per_epoch=X_train.shape[0] // 256, epochs=300,\n",
        "                    verbose=1, validation_data=(X_test, Y_test),\n",
        "                    callbacks=[early_stopping_callback, checkpointer, LearningRateScheduler(lr_schedule)])"
      ],
      "execution_count": null,
      "outputs": [
        {
          "output_type": "stream",
          "text": [
            "Epoch 1/300\n",
            "195/195 [==============================] - ETA: 0s - loss: 2.0334 - accuracy: 0.3774\n",
            "Epoch 00001: val_loss did not improve from 2.62126\n",
            "195/195 [==============================] - 13s 65ms/step - loss: 2.0334 - accuracy: 0.3774 - val_loss: 3.0205 - val_accuracy: 0.1819 - lr: 0.0010\n",
            "Epoch 2/300\n",
            "195/195 [==============================] - ETA: 0s - loss: 1.7446 - accuracy: 0.4437\n",
            "Epoch 00002: val_loss improved from 2.62126 to 1.39656, saving model to ./model2/mnist-cnn-02-1.3966.hdf5\n",
            "195/195 [==============================] - 13s 65ms/step - loss: 1.7446 - accuracy: 0.4437 - val_loss: 1.3966 - val_accuracy: 0.5309 - lr: 0.0010\n",
            "Epoch 3/300\n",
            "195/195 [==============================] - ETA: 0s - loss: 1.5426 - accuracy: 0.4978\n",
            "Epoch 00003: val_loss did not improve from 1.39656\n",
            "195/195 [==============================] - 13s 68ms/step - loss: 1.5426 - accuracy: 0.4978 - val_loss: 1.5061 - val_accuracy: 0.5112 - lr: 0.0010\n",
            "Epoch 4/300\n",
            "195/195 [==============================] - ETA: 0s - loss: 1.4203 - accuracy: 0.5389\n",
            "Epoch 00004: val_loss did not improve from 1.39656\n",
            "195/195 [==============================] - 13s 66ms/step - loss: 1.4203 - accuracy: 0.5389 - val_loss: 1.5104 - val_accuracy: 0.5453 - lr: 0.0010\n",
            "Epoch 5/300\n",
            "195/195 [==============================] - ETA: 0s - loss: 1.3349 - accuracy: 0.5625\n",
            "Epoch 00005: val_loss improved from 1.39656 to 1.29453, saving model to ./model2/mnist-cnn-05-1.2945.hdf5\n",
            "195/195 [==============================] - 13s 66ms/step - loss: 1.3349 - accuracy: 0.5625 - val_loss: 1.2945 - val_accuracy: 0.5923 - lr: 0.0010\n",
            "Epoch 6/300\n",
            "195/195 [==============================] - ETA: 0s - loss: 1.2502 - accuracy: 0.5905\n",
            "Epoch 00006: val_loss improved from 1.29453 to 1.21856, saving model to ./model2/mnist-cnn-06-1.2186.hdf5\n",
            "195/195 [==============================] - 12s 64ms/step - loss: 1.2502 - accuracy: 0.5905 - val_loss: 1.2186 - val_accuracy: 0.6246 - lr: 0.0010\n",
            "Epoch 7/300\n",
            "195/195 [==============================] - ETA: 0s - loss: 1.1913 - accuracy: 0.6123\n",
            "Epoch 00007: val_loss did not improve from 1.21856\n",
            "195/195 [==============================] - 13s 64ms/step - loss: 1.1913 - accuracy: 0.6123 - val_loss: 1.3199 - val_accuracy: 0.5914 - lr: 0.0010\n",
            "Epoch 8/300\n",
            "195/195 [==============================] - ETA: 0s - loss: 1.1537 - accuracy: 0.6187\n",
            "Epoch 00008: val_loss improved from 1.21856 to 1.07617, saving model to ./model2/mnist-cnn-08-1.0762.hdf5\n",
            "195/195 [==============================] - 13s 65ms/step - loss: 1.1537 - accuracy: 0.6187 - val_loss: 1.0762 - val_accuracy: 0.6546 - lr: 0.0010\n",
            "Epoch 9/300\n",
            "  6/195 [..............................] - ETA: 7s - loss: 1.0266 - accuracy: 0.6745"
          ],
          "name": "stdout"
        }
      ]
    },
    {
      "cell_type": "code",
      "metadata": {
        "id": "_9lD4M4sbMEV",
        "colab_type": "code",
        "colab": {}
      },
      "source": [
        "scores = model.evaluate(X_test, Y_test, batch_size=128, verbose=2)\n",
        "print('\\nAccuracy: %.4f' % scores[1])"
      ],
      "execution_count": null,
      "outputs": []
    },
    {
      "cell_type": "code",
      "metadata": {
        "id": "nwUlJrr-cysd",
        "colab_type": "code",
        "colab": {}
      },
      "source": [
        ""
      ],
      "execution_count": null,
      "outputs": []
    }
  ]
}